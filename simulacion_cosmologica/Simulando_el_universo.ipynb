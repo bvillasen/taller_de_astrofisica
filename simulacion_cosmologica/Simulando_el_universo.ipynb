{
 "cells": [
  {
   "cell_type": "markdown",
   "id": "c9520418",
   "metadata": {},
   "source": [
    "## Simulando el Universo a Gran Escala"
   ]
  },
  {
   "cell_type": "code",
   "execution_count": 3,
   "id": "fc0f0271",
   "metadata": {},
   "outputs": [],
   "source": [
    "#Importar librerias necesarias\n",
    "import numpy as np\n",
    "import h5py as h5\n",
    "import matplotlib.pyplot as plt "
   ]
  },
  {
   "cell_type": "code",
   "execution_count": 188,
   "id": "239b5152",
   "metadata": {},
   "outputs": [],
   "source": [
    "# Parametros globales\n",
    "directorio_figuras = 'figuras/'\n",
    "G = 1\n",
    "H0 = 67.66\n",
    "Omega_M = 0.3111\n",
    "Omega_L = 0.6999"
   ]
  },
  {
   "cell_type": "code",
   "execution_count": 88,
   "id": "dfa6f468",
   "metadata": {},
   "outputs": [],
   "source": [
    "# Leer las condiciones iniciales\n",
    "nombre_archivo = 'condiciones_iniciales/0_particulas.h5'\n",
    "archivo = h5.File( nombre_archivo, 'r' )\n",
    "redshift_inicial = archivo.attrs['current_z']  # redshift inicial de la simulacion\n",
    "masa_de_particula = archivo.attrs['particle_mass'] # en M_solar / h\n",
    "# Posiciones iniciales\n",
    "pos_x = archivo['pos_x'][...]\n",
    "pos_y = archivo['pos_y'][...]\n",
    "pos_z = archivo['pos_z'][...]\n",
    "# Velocidades iniciales\n",
    "vel_x = archivo['vel_x'][...]\n",
    "vel_y = archivo['vel_y'][...]\n",
    "vel_z = archivo['vel_z'][...]\n",
    "# Numero de particulas\n",
    "n_particulas = len(pos_x)\n",
    "# Terminamos de leer, cerramos el archivo\n",
    "archivo.close()"
   ]
  },
  {
   "cell_type": "code",
   "execution_count": 145,
   "id": "b72e93a8",
   "metadata": {},
   "outputs": [],
   "source": [
    "# Malla para calcular la densidad\n",
    "L_dominio = 25000 # tamaño de la simulacion en kpc / h\n",
    "n_malla  = 64      # numero de celdas por cada lado de la malla\n",
    "dx = L_dominio / n_malla\n"
   ]
  },
  {
   "cell_type": "code",
   "execution_count": 146,
   "id": "67f5dbb9",
   "metadata": {},
   "outputs": [],
   "source": [
    "def calcular_densidad( pos_x, pos_y, pos_z, masa, n_malla, dx ):\n",
    "    # Funcion para calcular la densidad en base a la posicion y la masa de las particulas\n",
    "    \n",
    "    # Iniciamos la densidad como un array 3-dimensional de tamaño n_malla X n_malla X n_malla\n",
    "    densidad = np.zeros( [n_malla, n_malla, n_malla] )\n",
    "\n",
    "    indices_x =  ( pos_x / dx ).astype( int ) \n",
    "    indices_y =  ( pos_y / dx ).astype( int ) \n",
    "    indices_z =  ( pos_z / dx ).astype( int )\n",
    "    indices = np.array( [ indices_x, indices_y, indices_z] ).T\n",
    "    \n",
    "    # Vamos a contar el numero de particulas en cada celda\n",
    "    # Por cada particula añadimos 1 en la celda correspondinte \n",
    "    # a su posicion.\n",
    "    for indice in indices:\n",
    "        densidad[indice[0], indice[1], indice[2]] += 1\n",
    "    \n",
    "    # Multiplicamos por la masa de la particula \n",
    "    # y dividimos por el volumen de la celda\n",
    "    densidad *= masa\n",
    "    densidad /= dx**3\n",
    "    return densidad"
   ]
  },
  {
   "cell_type": "code",
   "execution_count": 147,
   "id": "d6ae3142",
   "metadata": {},
   "outputs": [],
   "source": [
    "densidad = calcular_densidad( pos_x, pos_y, pos_z, masa_de_particula, n_malla, dx )"
   ]
  },
  {
   "cell_type": "code",
   "execution_count": 148,
   "id": "d9e3d2d4",
   "metadata": {},
   "outputs": [],
   "source": [
    "def graficar_densidad( densidad, directorio, nombre_figura, L ):\n",
    "    n = densidad.shape[0]\n",
    "    projeccion = densidad.sum( axis=0 ) / n \n",
    "    log_projeccion = np.log10( projeccion )\n",
    "    fig = plt.figure(figsize=(5, 5))\n",
    "    imagen = plt.imshow( log_projeccion, extent=(0, L, 0, L), cmap='inferno' )\n",
    "    color_bar = plt.colorbar( imagen )\n",
    "    color_bar.set_label( r'$\\log_{10} \\,\\rho_\\mathrm{DM} \\,\\, [\\mathrm{ M_\\odot \\, kpc^{-3} } ]$' )\n",
    "    plt.xlabel( r'$x \\,\\, [ h^{-1} \\, \\mathrm{Mpc}]$')\n",
    "    plt.ylabel( r'$y \\,\\, [ h^{-1} \\, \\mathrm{Mpc}]$')\n",
    "    nombre = directorio + nombre_figura\n",
    "    fig.savefig( nombre, dpi=200 )"
   ]
  },
  {
   "cell_type": "code",
   "execution_count": 149,
   "id": "18c14414",
   "metadata": {},
   "outputs": [
    {
     "data": {
      "image/png": "[encoded data removed]",
      "text/plain": [
       "<Figure size 360x360 with 2 Axes>"
      ]
     },
     "metadata": {
      "needs_background": "light"
     },
     "output_type": "display_data"
    }
   ],
   "source": [
    "graficar_densidad( densidad, directorio_figuras, 'densidad_0.png', L_dominio//1000 )"
   ]
  },
  {
   "cell_type": "code",
   "execution_count": 179,
   "id": "d563cff8",
   "metadata": {},
   "outputs": [],
   "source": [
    "def calcular_campo_gravitacional( densidad, factor_escala, G, n_malla, dx  ):\n",
    "\n",
    "    fuente = 4 * np.pi * G / factor_escala * densidad\n",
    "    transformada_densidad = np.fft.fftn( fuente )\n",
    "    k = 2*np.pi*np.fft.fftfreq( n_malla, d=dx )\n",
    "    k[0] = 1\n",
    "    kx, ky, kz = np.meshgrid( k, k, k )\n",
    "    k2 = np.sqrt( kx*kx + ky*ky + kz*kz )\n",
    "    transformada_potencial =  - transformada_densidad / k2  \n",
    "    potencial_complejo = np.fft.ifftn( transformada_potencial )\n",
    "\n",
    "    potencial = np.abs( potencial_complejo )\n",
    "\n",
    "\n",
    "\n",
    "    transformada_grav_x = 1j * kx * transformada_potencial\n",
    "    transformada_grav_y = 1j * ky * transformada_potencial\n",
    "    transformada_grav_z = 1j * kz * transformada_potencial \n",
    "    grav_x = np.abs( np.fft.ifftn( transformada_grav_x ) ) \n",
    "    grav_y = np.abs( np.fft.ifftn( transformada_grav_y ) ) \n",
    "    grav_z = np.abs( np.fft.ifftn( transformada_grav_z ) )\n",
    "    \n",
    "    return grav_x, grav_y, grav_z\n"
   ]
  },
  {
   "cell_type": "code",
   "execution_count": 180,
   "id": "cf9bf324",
   "metadata": {},
   "outputs": [],
   "source": [
    "redshift = redshift_inicial\n",
    "factor_de_scala = 1 / ( redshift + 1 ) \n",
    "grav_x, grav_y, grav_z = calcular_campo_gravitacional( densidad, factor_escala, G, n_malla, dx  )\n"
   ]
  },
  {
   "cell_type": "code",
   "execution_count": 181,
   "id": "2071fde7",
   "metadata": {},
   "outputs": [],
   "source": [
    "def calcular_acceleracion( pos_x, pos_y, pos_z, grav_x, grav_y, grav_z, dx ):\n",
    "    \n",
    "    n_particulas = len( pos_x )\n",
    "    \n",
    "    indices_x =  ( pos_x / dx ).astype( int ) \n",
    "    indices_y =  ( pos_y / dx ).astype( int ) \n",
    "    indices_z =  ( pos_z / dx ).astype( int )\n",
    "    indices = np.array( [ indices_x, indices_y, indices_z] ).T\n",
    "    \n",
    "    accel_x = np.zeros( n_particulas )\n",
    "    accel_y = np.zeros( n_particulas )\n",
    "    accel_z = np.zeros( n_particulas )\n",
    "    \n",
    "    for i in range( n_particulas ):\n",
    "        coords = indices[i]\n",
    "        ax = grav_x[ coords[0], coords[1], coords[2] ]\n",
    "        ay = grav_y[ coords[0], coords[1], coords[2] ]\n",
    "        az = grav_z[ coords[0], coords[1], coords[2] ]\n",
    "        accel_x[i] = ax\n",
    "        accel_y[i] = ay\n",
    "        accel_z[i] = az\n",
    "        \n",
    "    return accel_x, accel_y, accel_z\n",
    "    "
   ]
  },
  {
   "cell_type": "code",
   "execution_count": 182,
   "id": "7bb19f99",
   "metadata": {},
   "outputs": [],
   "source": [
    "accel_x, accel_y, accel_z = calcular_acceleracion( pos_x, pos_y, pos_z, grav_x, grav_y, grav_z, dx )"
   ]
  },
  {
   "cell_type": "code",
   "execution_count": null,
   "id": "4fa45490",
   "metadata": {},
   "outputs": [],
   "source": []
  },
  {
   "cell_type": "code",
   "execution_count": 185,
   "id": "95f346f3",
   "metadata": {},
   "outputs": [],
   "source": [
    "def actualizar_posiciones( pos_x, pos_y, pos_z, \n",
    "                           vel_x, vel_y, vel_z, \n",
    "                           a, delta_a, H0, Omega_M, Omega_L ):\n",
    "    \n",
    "    H = H0 * np.sqrt( Omega_M/a**3 + Omega_L )\n",
    "    delta_t = delta_a / ( a * H )\n",
    "    \n",
    "    pos_x = pos_x + delta_t * vel_x\n",
    "    pos_y = pos_y + delta_t * vel_y\n",
    "    pos_z = pos_z + delta_t * vel_z\n",
    "    \n",
    "    return pos_x, pos_y, pos_z\n",
    "   "
   ]
  },
  {
   "cell_type": "code",
   "execution_count": 189,
   "id": "317260e0",
   "metadata": {},
   "outputs": [],
   "source": [
    "delta_a = 1e-2\n",
    "pos_x, pos_y, pos_z = actualizar_posiciones( pos_x, pos_y, pos_z, \n",
    "                      vel_x, vel_y, vel_z, factor_escala, delta_a, H0, Omega_M, Omega_L )"
   ]
  },
  {
   "cell_type": "code",
   "execution_count": null,
   "id": "4103db99",
   "metadata": {},
   "outputs": [],
   "source": []
  }
 ],
 "metadata": {
  "kernelspec": {
   "display_name": "Python 3 (ipykernel)",
   "language": "python",
   "name": "python3"
  },
  "language_info": {
   "codemirror_mode": {
    "name": "ipython",
    "version": 3
   },
   "file_extension": ".py",
   "mimetype": "text/x-python",
   "name": "python",
   "nbconvert_exporter": "python",
   "pygments_lexer": "ipython3",
   "version": "3.8.9"
  }
 },
 "nbformat": 4,
 "nbformat_minor": 5
}
